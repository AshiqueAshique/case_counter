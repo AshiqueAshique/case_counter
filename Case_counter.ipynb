{
 "cells": [
  {
   "cell_type": "markdown",
   "id": "43e67e6e",
   "metadata": {},
   "source": [
    " Python function that accepts a string and calculate the number of upper case letters and lower case letters."
   ]
  },
  {
   "cell_type": "code",
   "execution_count": 1,
   "id": "9ba7d0e4",
   "metadata": {},
   "outputs": [
    {
     "name": "stdout",
     "output_type": "stream",
     "text": [
      "Number of Uppercase charecters:  3\n",
      "Number of Lowercase charecters:  12\n"
     ]
    }
   ],
   "source": [
    "def case_counter(s):              #function to count no. of uppercase lowercase charecters in a given string\n",
    "    d = {'Uppercase': 0, 'Lowercase': 0}     # dictionary with uppercase and lower case as keys\n",
    "    for ch in s:\n",
    "        if ch.isupper():         # ch iterates the string charecter by charecter and checks whether it is uppercase or lowercase\n",
    "            d['Uppercase'] += 1\n",
    "        elif ch.islower():\n",
    "            d['Lowercase'] += 1\n",
    "        else:                    #The code will simply pass in case of space/digit\n",
    "            pass\n",
    "    print(\"Number of Uppercase charecters: \", d['Uppercase'])\n",
    "    print(\"Number of Lowercase charecters: \", d['Lowercase'])\n",
    "\n",
    "case_counter('The quick Brow Fox')    #function calling"
   ]
  }
 ],
 "metadata": {
  "kernelspec": {
   "display_name": "Python 3",
   "language": "python",
   "name": "python3"
  },
  "language_info": {
   "codemirror_mode": {
    "name": "ipython",
    "version": 3
   },
   "file_extension": ".py",
   "mimetype": "text/x-python",
   "name": "python",
   "nbconvert_exporter": "python",
   "pygments_lexer": "ipython3",
   "version": "3.8.8"
  }
 },
 "nbformat": 4,
 "nbformat_minor": 5
}
