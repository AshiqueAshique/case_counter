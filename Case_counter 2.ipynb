{
 "cells": [
  {
   "cell_type": "markdown",
   "id": "9d5ca095",
   "metadata": {},
   "source": [
    " Python function that accepts a string and calculate the number of upper case letters and lower case letters."
   ]
  },
  {
   "cell_type": "code",
   "execution_count": 1,
   "id": "756089c0",
   "metadata": {},
   "outputs": [
    {
     "name": "stdout",
     "output_type": "stream",
     "text": [
      "Number of Uppercase and Lower case charecters is  (3, 12) respectively.\n"
     ]
    }
   ],
   "source": [
    "def case_counter(s):\n",
    "    upper_case = 0\n",
    "    lower_case = 0\n",
    "    for ch in s:\n",
    "        if ch.isupper():\n",
    "            upper_case += 1\n",
    "        elif ch.islower():\n",
    "            lower_case += 1\n",
    "        else: \n",
    "            pass\n",
    "    return upper_case, lower_case\n",
    "\n",
    "s = case_counter('The quick Brow Fox')\n",
    "print(\"Number of Uppercase and Lower case charecters is \", s, \"respectively.\")"
   ]
  }
 ],
 "metadata": {
  "kernelspec": {
   "display_name": "Python 3",
   "language": "python",
   "name": "python3"
  },
  "language_info": {
   "codemirror_mode": {
    "name": "ipython",
    "version": 3
   },
   "file_extension": ".py",
   "mimetype": "text/x-python",
   "name": "python",
   "nbconvert_exporter": "python",
   "pygments_lexer": "ipython3",
   "version": "3.8.8"
  }
 },
 "nbformat": 4,
 "nbformat_minor": 5
}
